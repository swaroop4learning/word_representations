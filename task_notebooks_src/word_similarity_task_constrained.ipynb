{
  "nbformat": 4,
  "nbformat_minor": 0,
  "metadata": {
    "colab": {
      "provenance": []
    },
    "kernelspec": {
      "name": "python3",
      "display_name": "Python 3"
    },
    "language_info": {
      "name": "python"
    }
  },
  "cells": [
    {
      "cell_type": "markdown",
      "source": [
        "Word Similarity Scores: Given a pair of words, predict their similarity score. The\n",
        "focus is how do you convert a word to its numerical representation, on which\n",
        "learning algorithms (like Regression, classification etc) can be applied.\n",
        "\n",
        "Constraints on Data Resources: any monolingual English corpus - Maximum 1 million tokens."
      ],
      "metadata": {
        "id": "JzBiTJv0vvxm"
      }
    },
    {
      "cell_type": "code",
      "execution_count": null,
      "metadata": {
        "colab": {
          "base_uri": "https://localhost:8080/"
        },
        "id": "_5ukCtDcoACu",
        "outputId": "c22b1f76-7428-495e-b0da-54b89fe6d0d0"
      },
      "outputs": [
        {
          "output_type": "stream",
          "name": "stdout",
          "text": [
            "Requirement already satisfied: nltk in /usr/local/lib/python3.10/dist-packages (3.8.1)\n",
            "Requirement already satisfied: click in /usr/local/lib/python3.10/dist-packages (from nltk) (8.1.7)\n",
            "Requirement already satisfied: joblib in /usr/local/lib/python3.10/dist-packages (from nltk) (1.3.2)\n",
            "Requirement already satisfied: regex>=2021.8.3 in /usr/local/lib/python3.10/dist-packages (from nltk) (2023.6.3)\n",
            "Requirement already satisfied: tqdm in /usr/local/lib/python3.10/dist-packages (from nltk) (4.66.1)\n"
          ]
        }
      ],
      "source": [
        "pip install nltk\n"
      ]
    },
    {
      "cell_type": "code",
      "source": [
        "import nltk\n",
        "nltk.download('wordnet')\n"
      ],
      "metadata": {
        "colab": {
          "base_uri": "https://localhost:8080/"
        },
        "id": "wjRugitboJrV",
        "outputId": "0bb896be-679a-4926-c6cc-40d45e442840"
      },
      "execution_count": null,
      "outputs": [
        {
          "output_type": "stream",
          "name": "stderr",
          "text": [
            "[nltk_data] Downloading package wordnet to /root/nltk_data...\n",
            "[nltk_data]   Package wordnet is already up-to-date!\n"
          ]
        },
        {
          "output_type": "execute_result",
          "data": {
            "text/plain": [
              "True"
            ]
          },
          "metadata": {},
          "execution_count": 1
        }
      ]
    },
    {
      "cell_type": "code",
      "source": [
        "from nltk.corpus import wordnet as wn\n"
      ],
      "metadata": {
        "id": "CXbQOPXToRAA"
      },
      "execution_count": null,
      "outputs": []
    },
    {
      "cell_type": "code",
      "source": [
        "import pandas as pd"
      ],
      "metadata": {
        "id": "ksecAptmrZle"
      },
      "execution_count": null,
      "outputs": []
    },
    {
      "cell_type": "code",
      "source": [
        "simlex_data = pd.read_csv('SimLex-999.txt', sep='\\t')\n",
        "word_pairs = simlex_data[['word1', 'word2']].values"
      ],
      "metadata": {
        "id": "qGWN65FtrkV0"
      },
      "execution_count": null,
      "outputs": []
    },
    {
      "cell_type": "code",
      "source": [
        "len(word_pairs)"
      ],
      "metadata": {
        "colab": {
          "base_uri": "https://localhost:8080/"
        },
        "id": "Mbo3VZJUr6r4",
        "outputId": "10d710ac-8ffc-446a-ab5c-1d7a0c748e8c"
      },
      "execution_count": null,
      "outputs": [
        {
          "output_type": "execute_result",
          "data": {
            "text/plain": [
              "999"
            ]
          },
          "metadata": {},
          "execution_count": 5
        }
      ]
    },
    {
      "cell_type": "code",
      "source": [
        "nltk.download('stopwords')"
      ],
      "metadata": {
        "colab": {
          "base_uri": "https://localhost:8080/"
        },
        "id": "gWFVIKZrDU1s",
        "outputId": "351e0f4e-ac47-4429-8310-215d224c3e3d"
      },
      "execution_count": null,
      "outputs": [
        {
          "output_type": "stream",
          "name": "stderr",
          "text": [
            "[nltk_data] Downloading package stopwords to /root/nltk_data...\n",
            "[nltk_data]   Package stopwords is already up-to-date!\n"
          ]
        },
        {
          "output_type": "execute_result",
          "data": {
            "text/plain": [
              "True"
            ]
          },
          "metadata": {},
          "execution_count": 6
        }
      ]
    },
    {
      "cell_type": "code",
      "source": [
        "nltk.download('punkt')"
      ],
      "metadata": {
        "colab": {
          "base_uri": "https://localhost:8080/"
        },
        "id": "FtVN8XydErxQ",
        "outputId": "e9275f61-f1a1-40de-927f-cf9eed8ce030"
      },
      "execution_count": null,
      "outputs": [
        {
          "output_type": "stream",
          "name": "stderr",
          "text": [
            "[nltk_data] Downloading package punkt to /root/nltk_data...\n",
            "[nltk_data]   Package punkt is already up-to-date!\n"
          ]
        },
        {
          "output_type": "execute_result",
          "data": {
            "text/plain": [
              "True"
            ]
          },
          "metadata": {},
          "execution_count": 7
        }
      ]
    },
    {
      "cell_type": "code",
      "source": [
        "from nltk.corpus import stopwords\n",
        "stop_words = set(stopwords.words('english'))"
      ],
      "metadata": {
        "id": "-XUvo2lKDWJ6"
      },
      "execution_count": null,
      "outputs": []
    },
    {
      "cell_type": "code",
      "source": [
        "# sentences = []\n",
        "# for word1, word2 in word_pairs:\n",
        "#     for synset in wn.synsets(word1):\n",
        "#         for example in synset.examples():\n",
        "#             sentences.append(example)\n",
        "#     for synset in wn.synsets(word2):\n",
        "#         for example in synset.examples():\n",
        "#             sentences.append(example)"
      ],
      "metadata": {
        "id": "u1nc7vMQqG6E"
      },
      "execution_count": null,
      "outputs": []
    },
    {
      "cell_type": "code",
      "source": [
        "import re\n",
        "def remove_abbrevations(text):\n",
        "    text = re.sub(r\"he's\", \"he is\", text)\n",
        "    text = re.sub(r\"there's\", \"there is\", text)\n",
        "    text = re.sub(r\"We're\", \"We are\", text)\n",
        "    text = re.sub(r\"That's\", \"That is\", text)\n",
        "    text = re.sub(r\"won't\", \"will not\", text)\n",
        "    text = re.sub(r\"they're\", \"they are\", text)\n",
        "    text = re.sub(r\"Can't\", \"Cannot\", text)\n",
        "    text = re.sub(r\"wasn't\", \"was not\", text)\n",
        "    text = re.sub(r\"don\\x89Ûªt\", \"do not\", text)\n",
        "    text = re.sub(r\"aren't\", \"are not\", text)\n",
        "    text = re.sub(r\"isn't\", \"is not\", text)\n",
        "    text = re.sub(r\"What's\", \"What is\", text)\n",
        "    text = re.sub(r\"haven't\", \"have not\", text)\n",
        "    text = re.sub(r\"hasn't\", \"has not\", text)\n",
        "    text = re.sub(r\"There's\", \"There is\", text)\n",
        "    text = re.sub(r\"He's\", \"He is\", text)\n",
        "    text = re.sub(r\"It's\", \"It is\", text)\n",
        "    text = re.sub(r\"You're\", \"You are\", text)\n",
        "    text = re.sub(r\"I'M\", \"I am\", text)\n",
        "    text = re.sub(r\"shouldn't\", \"should not\", text)\n",
        "    text = re.sub(r\"wouldn't\", \"would not\", text)\n",
        "    text = re.sub(r\"i'm\", \"I am\", text)\n",
        "    text = re.sub(r\"I\\x89Ûªm\", \"I am\", text)\n",
        "    text = re.sub(r\"I'm\", \"I am\", text)\n",
        "    text = re.sub(r\"Isn't\", \"is not\", text)\n",
        "    text = re.sub(r\"Here's\", \"Here is\", text)\n",
        "    text = re.sub(r\"you've\", \"you have\", text)\n",
        "    text = re.sub(r\"you\\x89Ûªve\", \"you have\", text)\n",
        "    text = re.sub(r\"we're\", \"we are\", text)\n",
        "    text = re.sub(r\"what's\", \"what is\", text)\n",
        "    text = re.sub(r\"couldn't\", \"could not\", text)\n",
        "    text = re.sub(r\"we've\", \"we have\", text)\n",
        "    text = re.sub(r\"it\\x89Ûªs\", \"it is\", text)\n",
        "    text = re.sub(r\"doesn\\x89Ûªt\", \"does not\", text)\n",
        "    text = re.sub(r\"It\\x89Ûªs\", \"It is\", text)\n",
        "    text = re.sub(r\"Here\\x89Ûªs\", \"Here is\", text)\n",
        "    text = re.sub(r\"who's\", \"who is\", text)\n",
        "    text = re.sub(r\"I\\x89Ûªve\", \"I have\", text)\n",
        "    text = re.sub(r\"y'all\", \"you all\", text)\n",
        "    text = re.sub(r\"can\\x89Ûªt\", \"cannot\", text)\n",
        "    text = re.sub(r\"would've\", \"would have\", text)\n",
        "    text = re.sub(r\"it'll\", \"it will\", text)\n",
        "    text = re.sub(r\"we'll\", \"we will\", text)\n",
        "    text = re.sub(r\"wouldn\\x89Ûªt\", \"would not\", text)\n",
        "    text = re.sub(r\"We've\", \"We have\", text)\n",
        "    text = re.sub(r\"he'll\", \"he will\", text)\n",
        "    text = re.sub(r\"Y'all\", \"You all\", text)\n",
        "    text = re.sub(r\"Weren't\", \"Were not\", text)\n",
        "    text = re.sub(r\"Didn't\", \"Did not\", text)\n",
        "    text = re.sub(r\"they'll\", \"they will\", text)\n",
        "    text = re.sub(r\"they'd\", \"they would\", text)\n",
        "    text = re.sub(r\"DON'T\", \"DO NOT\", text)\n",
        "    text = re.sub(r\"That\\x89Ûªs\", \"That is\", text)\n",
        "    text = re.sub(r\"they've\", \"they have\", text)\n",
        "    text = re.sub(r\"i'd\", \"I would\", text)\n",
        "    text = re.sub(r\"should've\", \"should have\", text)\n",
        "    text = re.sub(r\"You\\x89Ûªre\", \"You are\", text)\n",
        "    text = re.sub(r\"where's\", \"where is\", text)\n",
        "    text = re.sub(r\"Don\\x89Ûªt\", \"Do not\", text)\n",
        "    text = re.sub(r\"we'd\", \"we would\", text)\n",
        "    text = re.sub(r\"i'll\", \"I will\", text)\n",
        "    text = re.sub(r\"weren't\", \"were not\", text)\n",
        "    text = re.sub(r\"They're\", \"They are\", text)\n",
        "    text = re.sub(r\"Can\\x89Ûªt\", \"Cannot\", text)\n",
        "    text = re.sub(r\"you\\x89Ûªll\", \"you will\", text)\n",
        "    text = re.sub(r\"I\\x89Ûªd\", \"I would\", text)\n",
        "    text = re.sub(r\"let's\", \"let us\", text)\n",
        "    text = re.sub(r\"it's\", \"it is\", text)\n",
        "    text = re.sub(r\"can't\", \"cannot\", text)\n",
        "    text = re.sub(r\"don't\", \"do not\", text)\n",
        "    text = re.sub(r\"you're\", \"you are\", text)\n",
        "    text = re.sub(r\"i've\", \"I have\", text)\n",
        "    text = re.sub(r\"that's\", \"that is\", text)\n",
        "    text = re.sub(r\"i'll\", \"I will\", text)\n",
        "    text = re.sub(r\"doesn't\", \"does not\", text)\n",
        "    text = re.sub(r\"i'd\", \"I would\", text)\n",
        "    text = re.sub(r\"didn't\", \"did not\", text)\n",
        "    text = re.sub(r\"ain't\", \"am not\", text)\n",
        "    text = re.sub(r\"you'll\", \"you will\", text)\n",
        "    text = re.sub(r\"I've\", \"I have\", text)\n",
        "    text = re.sub(r\"Don't\", \"do not\", text)\n",
        "    text = re.sub(r\"I'll\", \"I will\", text)\n",
        "    text = re.sub(r\"I'd\", \"I would\", text)\n",
        "    text = re.sub(r\"Let's\", \"Let us\", text)\n",
        "    text = re.sub(r\"you'd\", \"You would\", text)\n",
        "    text = re.sub(r\"It's\", \"It is\", text)\n",
        "    text = re.sub(r\"Ain't\", \"am not\", text)\n",
        "    text = re.sub(r\"Haven't\", \"Have not\", text)\n",
        "    text = re.sub(r\"Could've\", \"Could have\", text)\n",
        "    text = re.sub(r\"youve\", \"you have\", text)\n",
        "    text = re.sub(r\"donå«t\", \"do not\", text)\n",
        "    text = re.sub(r\"shan't\", \"shall not\", text)\n",
        "    text = re.sub(r\"'Tis\", \"it is\", text)\n",
        "    text = re.sub(r\"what's\", \"what is\", text)\n",
        "    return text"
      ],
      "metadata": {
        "id": "B5B9j1uzt8YI"
      },
      "execution_count": null,
      "outputs": []
    },
    {
      "cell_type": "code",
      "source": [
        "def remove_punctuation(sentence):\n",
        "\n",
        "    return re.sub(r'[^\\w\\s]', '', sentence)\n",
        "\n",
        "def lower_text(str1):\n",
        "    return str1.lower()\n",
        "\n",
        "def replace_numbers(text):\n",
        "    text =  re.sub(r'\\d+(,(\\d+))*(\\.(\\d+))?%?\\s',  'num', text)\n",
        "    replaced_sentence = re.sub(r'\\d+', 'num', text)\n",
        "    return replaced_sentence\n",
        "\n",
        "def replace_email(text):\n",
        "    return re.sub(r'[a-zA-Z\\.]+@[a-zA-Z\\.\\d]+',  'email', text)"
      ],
      "metadata": {
        "id": "b5RbaPk4gmaO"
      },
      "execution_count": null,
      "outputs": []
    },
    {
      "cell_type": "code",
      "source": [
        "def clean_text(text):\n",
        "    text = replace_email(text)\n",
        "    text = replace_numbers(text)\n",
        "    text = remove_abbrevations(text)\n",
        "    text = lower_text(text)\n",
        "    text = remove_punctuation(text)\n",
        "    #newly added\n",
        "    cleaned_text = \" \".join(text.split())\n",
        "    return cleaned_text"
      ],
      "metadata": {
        "id": "89QIqlIfglL8"
      },
      "execution_count": null,
      "outputs": []
    },
    {
      "cell_type": "code",
      "source": [
        "def get_related_synsets(word):\n",
        "    \"\"\" Get synsets, hypernyms, hyponyms, and synonyms for a given word. \"\"\"\n",
        "    related_synsets = set()\n",
        "    for synset in wn.synsets(word):\n",
        "        # Add the synset itself\n",
        "        related_synsets.add(synset)\n",
        "\n",
        "        # Add hypernyms (more general terms)\n",
        "        related_synsets.update(synset.hypernyms())\n",
        "\n",
        "        # Add hyponyms (more specific terms)\n",
        "        related_synsets.update(synset.hyponyms())\n",
        "\n",
        "        # Add synonyms (lemmas in the synset)\n",
        "        for lemma in synset.lemmas():\n",
        "            related_synsets.update(wn.synsets(lemma.name()))\n",
        "\n",
        "    return related_synsets\n",
        "\n",
        "def get_sentences_and_definitions(word):\n",
        "    \"\"\" Retrieve sentences and definitions for a given word and its related synsets. \"\"\"\n",
        "    sentences = []\n",
        "    for synset in get_related_synsets(word):\n",
        "        # Add example sentences\n",
        "        sentences.extend(synset.examples())\n",
        "\n",
        "        # Add synset definition\n",
        "        sentences.append(synset.definition())\n",
        "\n",
        "    return sentences\n",
        "\n",
        "# Assuming word_pairs is a list of tuples, where each tuple is a pair of words\n",
        "#word_pairs = [('old', 'new'), ('smart', 'intelligent'), ...]  # Replace with your word pairs\n",
        "\n",
        "extended_sentences = []\n",
        "for word1, word2 in word_pairs:\n",
        "    extended_sentences.extend(get_sentences_and_definitions(word1))\n",
        "    extended_sentences.extend(get_sentences_and_definitions(word2))\n",
        "\n",
        "# Now extended_sentences contains a rich set of sentences and definitions\n",
        "print(f\"Total sentences collected: {len(extended_sentences)}\")\n"
      ],
      "metadata": {
        "colab": {
          "base_uri": "https://localhost:8080/"
        },
        "id": "_lJ6L7QPZdNn",
        "outputId": "0d856768-0a34-479d-d1f4-faf6bffea6ec"
      },
      "execution_count": null,
      "outputs": [
        {
          "output_type": "stream",
          "name": "stdout",
          "text": [
            "Total sentences collected: 327419\n"
          ]
        }
      ]
    },
    {
      "cell_type": "code",
      "source": [
        "cleaned_sentences = []\n",
        "for sentence in extended_sentences:\n",
        "  cleaned_sentences.append(clean_text(sentence))"
      ],
      "metadata": {
        "id": "r4FeVcQ1hJrQ"
      },
      "execution_count": null,
      "outputs": []
    },
    {
      "cell_type": "code",
      "source": [
        "cleaned_sentences[0:2]"
      ],
      "metadata": {
        "colab": {
          "base_uri": "https://localhost:8080/"
        },
        "id": "VaYfzllNiJxY",
        "outputId": "f072cd5a-109d-4f15-f3bc-56625c6db1b0"
      },
      "execution_count": null,
      "outputs": [
        {
          "output_type": "execute_result",
          "data": {
            "text/plain": [
              "['the novel was made into a film in numand again in num i prefer the former version to the latter one',\n",
              " 'referring to the first of two things or persons mentioned or the earlier one or ones of several']"
            ]
          },
          "metadata": {},
          "execution_count": 14
        }
      ]
    },
    {
      "cell_type": "code",
      "source": [
        "# # Tokenize each sentence and remove stop words\n",
        "# pre_processed_sentences = []\n",
        "# for sentence in sentences:\n",
        "#   pre_processed_sentences.append(remove_abbrevations(sentence))"
      ],
      "metadata": {
        "id": "MqPosESeDuON"
      },
      "execution_count": null,
      "outputs": []
    },
    {
      "cell_type": "code",
      "source": [
        "from nltk.tokenize import word_tokenize"
      ],
      "metadata": {
        "id": "ypSxc7BqELwF"
      },
      "execution_count": null,
      "outputs": []
    },
    {
      "cell_type": "code",
      "source": [
        "sim_words = []\n",
        "for i,j in word_pairs:\n",
        "  sim_words.append(i)\n",
        "  sim_words.append(j)"
      ],
      "metadata": {
        "id": "QBIVu1AiagPi"
      },
      "execution_count": null,
      "outputs": []
    },
    {
      "cell_type": "code",
      "source": [
        "len(sim_words)"
      ],
      "metadata": {
        "colab": {
          "base_uri": "https://localhost:8080/"
        },
        "id": "KiZ-rl84auM6",
        "outputId": "bd530999-2b12-489e-aba2-685de96eda27"
      },
      "execution_count": null,
      "outputs": [
        {
          "output_type": "execute_result",
          "data": {
            "text/plain": [
              "1998"
            ]
          },
          "metadata": {},
          "execution_count": 17
        }
      ]
    },
    {
      "cell_type": "code",
      "source": [
        "custom_stop_words = [i for i in stop_words if i not in sim_words]\n"
      ],
      "metadata": {
        "id": "9sxsIc9ja17o"
      },
      "execution_count": null,
      "outputs": []
    },
    {
      "cell_type": "code",
      "source": [
        "len(stop_words), len(custom_stop_words)"
      ],
      "metadata": {
        "colab": {
          "base_uri": "https://localhost:8080/"
        },
        "id": "Oq0pVFEYbBBV",
        "outputId": "ccd90f45-523e-4a56-e4f9-a340db983ed5"
      },
      "execution_count": null,
      "outputs": [
        {
          "output_type": "execute_result",
          "data": {
            "text/plain": [
              "(179, 178)"
            ]
          },
          "metadata": {},
          "execution_count": 19
        }
      ]
    },
    {
      "cell_type": "code",
      "source": [
        "processed_sentences = []\n",
        "for sentence in cleaned_sentences:\n",
        "    words = word_tokenize(sentence)\n",
        "    filtered_words = [word for word in words if word.lower() not in custom_stop_words]\n",
        "    processed_sentences.append(filtered_words)"
      ],
      "metadata": {
        "id": "FuTQeYwoEcOy"
      },
      "execution_count": null,
      "outputs": []
    },
    {
      "cell_type": "code",
      "source": [
        "len(processed_sentences)"
      ],
      "metadata": {
        "colab": {
          "base_uri": "https://localhost:8080/"
        },
        "id": "Z1noX4MMEyA1",
        "outputId": "09b610ef-9532-45e8-da1c-699dbea5a6dc"
      },
      "execution_count": null,
      "outputs": [
        {
          "output_type": "execute_result",
          "data": {
            "text/plain": [
              "327419"
            ]
          },
          "metadata": {},
          "execution_count": 21
        }
      ]
    },
    {
      "cell_type": "code",
      "source": [
        "processed_sentences[0:2]"
      ],
      "metadata": {
        "colab": {
          "base_uri": "https://localhost:8080/"
        },
        "id": "q3s3d9o2E0Dq",
        "outputId": "2456cd4b-4d6c-4c94-aff0-1bd500b505db"
      },
      "execution_count": null,
      "outputs": [
        {
          "output_type": "execute_result",
          "data": {
            "text/plain": [
              "[['novel',\n",
              "  'made',\n",
              "  'film',\n",
              "  'numand',\n",
              "  'num',\n",
              "  'prefer',\n",
              "  'former',\n",
              "  'version',\n",
              "  'latter',\n",
              "  'one'],\n",
              " ['referring',\n",
              "  'first',\n",
              "  'two',\n",
              "  'things',\n",
              "  'persons',\n",
              "  'mentioned',\n",
              "  'earlier',\n",
              "  'one',\n",
              "  'ones',\n",
              "  'several']]"
            ]
          },
          "metadata": {},
          "execution_count": 22
        }
      ]
    },
    {
      "cell_type": "code",
      "source": [
        "# from collections import defaultdict\n",
        "# import numpy as np\n",
        "\n",
        "# # Define the context window size\n",
        "# window_size = 2\n",
        "\n",
        "# # Initialize the co-occurrence matrix\n",
        "# co_occurrence = defaultdict(int)\n",
        "\n",
        "# for sentence in processed_sentences:\n",
        "#     for index, word in enumerate(sentence):\n",
        "#         for i in range(1, window_size + 1):\n",
        "#             if index - i >= 0:\n",
        "#                 co_occurrence[(word, sentence[index - i])] += 1\n",
        "#             if index + i < len(sentence):\n",
        "#                 co_occurrence[(word, sentence[index + i])] += 1\n",
        "\n",
        "# # Example: Viewing some of the co-occurrences\n",
        "# for pair, freq in list(co_occurrence.items())[:10]:\n",
        "#     print(f\"Pair: {pair}, Frequency: {freq}\")\n"
      ],
      "metadata": {
        "colab": {
          "base_uri": "https://localhost:8080/"
        },
        "id": "aKDw1yqqE3PR",
        "outputId": "bfe5d63d-7295-4cd9-f52b-861435233d87"
      },
      "execution_count": null,
      "outputs": [
        {
          "output_type": "stream",
          "name": "stdout",
          "text": [
            "Pair: ('mother', 'old'), Frequency: 2\n",
            "Pair: ('old', 'mother'), Frequency: 2\n",
            "Pair: ('ripe', 'old'), Frequency: 2\n",
            "Pair: ('ripe', 'age'), Frequency: 2\n",
            "Pair: ('old', 'ripe'), Frequency: 2\n",
            "Pair: ('old', 'age'), Frequency: 9\n",
            "Pair: ('age', 'old'), Frequency: 9\n",
            "Pair: ('age', 'ripe'), Frequency: 2\n",
            "Pair: ('old', '?'), Frequency: 2\n",
            "Pair: ('?', 'old'), Frequency: 2\n"
          ]
        }
      ]
    },
    {
      "cell_type": "code",
      "source": [
        "# Extract tokens directly from processed_sentences\n",
        "unique_tokens = set()\n",
        "for sent in processed_sentences:\n",
        "    for word in sent:\n",
        "        unique_tokens.add(word)\n",
        "\n",
        "# Now, 'unique_tokens' contains all words from your processed sentences\n",
        "unique_tokens.add('unk')\n",
        "print(len(unique_tokens))\n"
      ],
      "metadata": {
        "colab": {
          "base_uri": "https://localhost:8080/"
        },
        "id": "q8wOCUHzFOCe",
        "outputId": "d5b6107f-0d43-4733-aa2e-fc9dceb1bca6"
      },
      "execution_count": null,
      "outputs": [
        {
          "output_type": "stream",
          "name": "stdout",
          "text": [
            "27952\n"
          ]
        }
      ]
    },
    {
      "cell_type": "code",
      "source": [
        "token_to_index = {token: i for i, token in enumerate(unique_tokens)}"
      ],
      "metadata": {
        "id": "r5extsEvFOM9"
      },
      "execution_count": null,
      "outputs": []
    },
    {
      "cell_type": "code",
      "source": [
        "import numpy as np\n",
        "# Initialize the matrix with zeros\n",
        "co_occurrence_matrix_1 = np.zeros((len(unique_tokens), len(unique_tokens)), dtype=float)\n",
        "co_occurrence_matrix_2 = np.zeros((len(unique_tokens), len(unique_tokens)), dtype=float)"
      ],
      "metadata": {
        "id": "D4dqryyNIZ-a"
      },
      "execution_count": null,
      "outputs": []
    },
    {
      "cell_type": "code",
      "source": [
        "co_occurrence_matrix_1.shape"
      ],
      "metadata": {
        "colab": {
          "base_uri": "https://localhost:8080/"
        },
        "id": "OCYnKWo7jdMv",
        "outputId": "0298bb48-bcc1-446f-d19d-18f03e1e9df2"
      },
      "execution_count": null,
      "outputs": [
        {
          "output_type": "execute_result",
          "data": {
            "text/plain": [
              "(27952, 27952)"
            ]
          },
          "metadata": {},
          "execution_count": 26
        }
      ]
    },
    {
      "cell_type": "code",
      "source": [
        "window_size = 1  # Define your context window size\n",
        "\n",
        "for sentence in processed_sentences:\n",
        "    for index, word in enumerate(sentence):\n",
        "        for i in range(1, window_size + 1):\n",
        "            if index - i >= 0:\n",
        "                left_word = sentence[index - i]\n",
        "                co_occurrence_matrix_1[token_to_index[word]][token_to_index[left_word]] += 1\n",
        "            if index + i < len(sentence):\n",
        "                right_word = sentence[index + i]\n",
        "                co_occurrence_matrix_1[token_to_index[word]][token_to_index[right_word]] += 1\n"
      ],
      "metadata": {
        "id": "ui7mN6DRIaMq"
      },
      "execution_count": null,
      "outputs": []
    },
    {
      "cell_type": "code",
      "source": [
        "window_size = 2  # Define your context window size\n",
        "\n",
        "for sentence in processed_sentences:\n",
        "    for index, word in enumerate(sentence):\n",
        "        for i in range(1, window_size + 1):\n",
        "            if index - i >= 0:\n",
        "                left_word = sentence[index - i]\n",
        "                co_occurrence_matrix_2[token_to_index[word]][token_to_index[left_word]] += 1\n",
        "            if index + i < len(sentence):\n",
        "                right_word = sentence[index + i]\n",
        "                co_occurrence_matrix_2[token_to_index[word]][token_to_index[right_word]] += 1"
      ],
      "metadata": {
        "id": "LSQCAVuKc2Ss"
      },
      "execution_count": null,
      "outputs": []
    },
    {
      "cell_type": "code",
      "source": [],
      "metadata": {
        "id": "ImsBJbsbxnhg"
      },
      "execution_count": null,
      "outputs": []
    },
    {
      "cell_type": "code",
      "source": [
        "# Choose a small value close to zero\n",
        "small_value = 0.01  # Adjust as needed\n",
        "\n",
        "# Initialize the 'unk' row with this small value\n",
        "co_occurrence_matrix_1[token_to_index['unk']] = small_value\n",
        "co_occurrence_matrix_2[token_to_index['unk']] = small_value"
      ],
      "metadata": {
        "id": "iBU2Fxxjk8Hi"
      },
      "execution_count": null,
      "outputs": []
    },
    {
      "cell_type": "code",
      "source": [
        "# Example: Print co-occurrence count of two tokens\n",
        "token1 = 'condemnation'\n",
        "token2 = 'bit'\n",
        "print(co_occurrence_matrix_1[token_to_index[token1]][token_to_index[token2]])\n"
      ],
      "metadata": {
        "colab": {
          "base_uri": "https://localhost:8080/"
        },
        "id": "eOy7WnzzouEn",
        "outputId": "eb18b546-718f-420d-ebb1-e41b8bf4085a"
      },
      "execution_count": null,
      "outputs": [
        {
          "output_type": "stream",
          "name": "stdout",
          "text": [
            "2.0\n"
          ]
        }
      ]
    },
    {
      "cell_type": "code",
      "source": [
        "# Example: Print co-occurrence count of two tokens\n",
        "token1 = 'old'\n",
        "token2 = 'mother'\n",
        "print(co_occurrence_matrix_1[token_to_index[token1]][token_to_index[token2]])\n"
      ],
      "metadata": {
        "colab": {
          "base_uri": "https://localhost:8080/"
        },
        "id": "95XfhH2IJFts",
        "outputId": "143c44c3-14eb-4ac4-967b-0cb0affd2eef"
      },
      "execution_count": null,
      "outputs": [
        {
          "output_type": "stream",
          "name": "stdout",
          "text": [
            "2.0\n"
          ]
        }
      ]
    },
    {
      "cell_type": "code",
      "source": [
        "co_occurrence_matrix_1.shape"
      ],
      "metadata": {
        "colab": {
          "base_uri": "https://localhost:8080/"
        },
        "id": "UumS35XdJKmN",
        "outputId": "a4efa637-5e9b-468b-8c62-b5a76ca70e74"
      },
      "execution_count": null,
      "outputs": [
        {
          "output_type": "execute_result",
          "data": {
            "text/plain": [
              "(27952, 27952)"
            ]
          },
          "metadata": {},
          "execution_count": 34
        }
      ]
    },
    {
      "cell_type": "code",
      "source": [
        "co_occurrence_matrix_1[token_to_index['unk']]"
      ],
      "metadata": {
        "colab": {
          "base_uri": "https://localhost:8080/"
        },
        "id": "tzHY4f0Uj79F",
        "outputId": "d080d6d9-8184-44ec-ed47-4f4e615e0b45"
      },
      "execution_count": null,
      "outputs": [
        {
          "output_type": "execute_result",
          "data": {
            "text/plain": [
              "array([0.01, 0.01, 0.01, ..., 0.01, 0.01, 0.01])"
            ]
          },
          "metadata": {},
          "execution_count": 35
        }
      ]
    },
    {
      "cell_type": "code",
      "source": [
        "\"disorganize\" in stop_words"
      ],
      "metadata": {
        "colab": {
          "base_uri": "https://localhost:8080/"
        },
        "id": "uEOIqxIxeLDX",
        "outputId": "f7609eec-345a-47d1-f2f9-ee6d55c462ba"
      },
      "execution_count": null,
      "outputs": [
        {
          "output_type": "execute_result",
          "data": {
            "text/plain": [
              "False"
            ]
          },
          "metadata": {},
          "execution_count": 76
        }
      ]
    },
    {
      "cell_type": "code",
      "source": [
        "tokens_of_interest = set(sim_words)"
      ],
      "metadata": {
        "id": "WbZa45VfnxDl"
      },
      "execution_count": null,
      "outputs": []
    },
    {
      "cell_type": "code",
      "source": [
        "unk_sim = [word for word in tokens_of_interest if word not in unique_tokens]"
      ],
      "metadata": {
        "id": "0qhO7ufUnzFG"
      },
      "execution_count": null,
      "outputs": []
    },
    {
      "cell_type": "code",
      "source": [
        "tokens_of_interest = [word if word not in unk_sim else 'unk' for word in tokens_of_interest]"
      ],
      "metadata": {
        "id": "w-hJmBWayDOj"
      },
      "execution_count": null,
      "outputs": []
    },
    {
      "cell_type": "code",
      "source": [
        "len(set(tokens_of_interest))"
      ],
      "metadata": {
        "colab": {
          "base_uri": "https://localhost:8080/"
        },
        "id": "EnLUNQwFyt_9",
        "outputId": "dadbd29a-d5f4-45c7-adf6-1c07292faca8"
      },
      "execution_count": null,
      "outputs": [
        {
          "output_type": "execute_result",
          "data": {
            "text/plain": [
              "1018"
            ]
          },
          "metadata": {},
          "execution_count": 48
        }
      ]
    },
    {
      "cell_type": "code",
      "source": [
        "len(unk_sim)"
      ],
      "metadata": {
        "colab": {
          "base_uri": "https://localhost:8080/"
        },
        "id": "hCtXFF7xoCum",
        "outputId": "465dcce5-d566-4ae3-df24-a6ab82092609"
      },
      "execution_count": null,
      "outputs": [
        {
          "output_type": "execute_result",
          "data": {
            "text/plain": [
              "11"
            ]
          },
          "metadata": {},
          "execution_count": 49
        }
      ]
    },
    {
      "cell_type": "code",
      "source": [
        "tokens_of_interest = set(tokens_of_interest)"
      ],
      "metadata": {
        "id": "KT4htuD4_nmD"
      },
      "execution_count": null,
      "outputs": []
    },
    {
      "cell_type": "code",
      "source": [
        "#tokens_of_interest = set(sim_words)\n",
        "# Indices of these tokens in your original matrix\n",
        "indices_of_interest = [token_to_index.get(token, token_to_index['unk']) for token in tokens_of_interest]"
      ],
      "metadata": {
        "id": "luK5e-fxd0bp"
      },
      "execution_count": null,
      "outputs": []
    },
    {
      "cell_type": "code",
      "source": [
        "len(indices_of_interest), len(set(indices_of_interest))"
      ],
      "metadata": {
        "colab": {
          "base_uri": "https://localhost:8080/"
        },
        "id": "UYuImY1OrfPN",
        "outputId": "397e8f55-eb12-4de4-fca4-a62fc714aadd"
      },
      "execution_count": null,
      "outputs": [
        {
          "output_type": "execute_result",
          "data": {
            "text/plain": [
              "(1018, 1018)"
            ]
          },
          "metadata": {},
          "execution_count": 52
        }
      ]
    },
    {
      "cell_type": "code",
      "source": [
        "#indices_of_interest = list(set(indices_of_interest))"
      ],
      "metadata": {
        "id": "mH7R-l3vr0JO"
      },
      "execution_count": null,
      "outputs": []
    },
    {
      "cell_type": "code",
      "source": [
        "# Creating a reduced co-occurrence matrix\n",
        "reduced_co_matrix_1 = co_occurrence_matrix_1[np.ix_(indices_of_interest, range(co_occurrence_matrix_1.shape[1]))]\n",
        "reduced_co_matrix_2 = co_occurrence_matrix_2[np.ix_(indices_of_interest, range(co_occurrence_matrix_2.shape[1]))]"
      ],
      "metadata": {
        "id": "VuSivQFfeJJy"
      },
      "execution_count": null,
      "outputs": []
    },
    {
      "cell_type": "code",
      "source": [
        "# Create a mapping from token names to new indices in the reduced matrix\n",
        "token_to_new_index = {token: index for index, token in enumerate(tokens_of_interest)}"
      ],
      "metadata": {
        "id": "b8Q1Wrqu_fdz"
      },
      "execution_count": null,
      "outputs": []
    },
    {
      "cell_type": "code",
      "source": [
        "reduced_co_matrix_1.shape"
      ],
      "metadata": {
        "colab": {
          "base_uri": "https://localhost:8080/"
        },
        "id": "QUZbXge0mfOS",
        "outputId": "c4b0e201-8692-4aee-d042-ab9b52e0c13a"
      },
      "execution_count": null,
      "outputs": [
        {
          "output_type": "execute_result",
          "data": {
            "text/plain": [
              "(1018, 27952)"
            ]
          },
          "metadata": {},
          "execution_count": 56
        }
      ]
    },
    {
      "cell_type": "code",
      "source": [
        "reduced_co_matrix_2"
      ],
      "metadata": {
        "colab": {
          "base_uri": "https://localhost:8080/"
        },
        "id": "lgsCYIZfJM4j",
        "outputId": "d96a57ef-6fb8-4e6d-b0a8-34ae7c9bb0b0"
      },
      "execution_count": null,
      "outputs": [
        {
          "output_type": "execute_result",
          "data": {
            "text/plain": [
              "array([[0., 0., 0., ..., 0., 0., 0.],\n",
              "       [0., 0., 0., ..., 0., 0., 0.],\n",
              "       [0., 0., 0., ..., 0., 0., 0.],\n",
              "       ...,\n",
              "       [0., 0., 0., ..., 0., 0., 0.],\n",
              "       [0., 0., 0., ..., 0., 0., 0.],\n",
              "       [0., 0., 0., ..., 0., 0., 0.]])"
            ]
          },
          "metadata": {},
          "execution_count": 57
        }
      ]
    },
    {
      "cell_type": "code",
      "source": [
        "from scipy.linalg import svd\n",
        "\n",
        "# Perform SVD\n",
        "U, S, Vt = svd(reduced_co_matrix_1)\n",
        "\n",
        "# Choose how many dimensions to keep - example: first 100\n",
        "k = 100\n",
        "reduced_matrix = U[:, :k]\n"
      ],
      "metadata": {
        "id": "0e5yAC5VJRkz"
      },
      "execution_count": null,
      "outputs": []
    },
    {
      "cell_type": "code",
      "source": [
        "from scipy.linalg import svd\n",
        "\n",
        "# Perform SVD\n",
        "U_2, S_2, Vt_2 = svd(reduced_co_matrix_2)\n",
        "\n",
        "# Choose how many dimensions to keep - example: first 100\n",
        "k = 100\n",
        "reduced_matrix = U_2[:, :k]"
      ],
      "metadata": {
        "id": "mssWgEo3tn8F"
      },
      "execution_count": null,
      "outputs": []
    },
    {
      "cell_type": "code",
      "source": [
        "from sklearn.decomposition import TruncatedSVD\n",
        "\n",
        "# Example: co_occurrence_matrix is your matrix\n",
        "svd = TruncatedSVD(n_components=500)  # Specify the number of components\n",
        "reduced_matrix_1 = svd.fit_transform(reduced_co_matrix_1)\n",
        "\n",
        "# reduced_matrix now contains the lower-dimensional representation\n"
      ],
      "metadata": {
        "id": "kCjeDqBKvTup"
      },
      "execution_count": null,
      "outputs": []
    },
    {
      "cell_type": "code",
      "source": [
        "from sklearn.decomposition import TruncatedSVD\n",
        "\n",
        "# Example: co_occurrence_matrix is your matrix\n",
        "svd = TruncatedSVD(n_components=500)  # Specify the number of components\n",
        "reduced_matrix_2 = svd.fit_transform(reduced_co_matrix_2)\n",
        "\n",
        "# reduced_matrix now contains the lower-dimensional representation\n"
      ],
      "metadata": {
        "id": "Y0Q9E8d_vaGl"
      },
      "execution_count": null,
      "outputs": []
    },
    {
      "cell_type": "code",
      "source": [
        "reduced_matrix_1.shape, reduced_matrix_2.shape"
      ],
      "metadata": {
        "colab": {
          "base_uri": "https://localhost:8080/"
        },
        "id": "bt8fQw7nJ3gl",
        "outputId": "f1e80d66-e44a-4286-b779-454bf62b367f"
      },
      "execution_count": null,
      "outputs": [
        {
          "output_type": "execute_result",
          "data": {
            "text/plain": [
              "((1018, 500), (1018, 500))"
            ]
          },
          "metadata": {},
          "execution_count": 60
        }
      ]
    },
    {
      "cell_type": "code",
      "source": [
        "k = 100\n",
        "reduced_matrix = U[:, :k]"
      ],
      "metadata": {
        "id": "AnrcIgnLLEp-"
      },
      "execution_count": null,
      "outputs": []
    },
    {
      "cell_type": "code",
      "source": [
        "word1_vector = reduced_matrix_2[token_to_new_index['large']]\n",
        "word2_vector = reduced_matrix_2[token_to_new_index['big']]\n"
      ],
      "metadata": {
        "id": "3kgbX2aJKiQI"
      },
      "execution_count": null,
      "outputs": []
    },
    {
      "cell_type": "code",
      "source": [
        "from numpy.linalg import norm\n",
        "\n",
        "def cosine_similarity(vec1, vec2):\n",
        "    return np.dot(vec1, vec2) / (norm(vec1) * norm(vec2))\n",
        "\n",
        "similarity = cosine_similarity(word1_vector, word2_vector)\n",
        "print(f\"The similarity between is: {similarity}\")\n"
      ],
      "metadata": {
        "colab": {
          "base_uri": "https://localhost:8080/"
        },
        "id": "SfsIqAuRKd1X",
        "outputId": "f43a61af-1dcd-4208-dec5-2a2b4283ed2b"
      },
      "execution_count": null,
      "outputs": [
        {
          "output_type": "stream",
          "name": "stdout",
          "text": [
            "The similarity between is: 0.05652862456226665\n"
          ]
        }
      ]
    },
    {
      "cell_type": "code",
      "source": [
        "simlex_data.head()"
      ],
      "metadata": {
        "colab": {
          "base_uri": "https://localhost:8080/",
          "height": 206
        },
        "id": "3iAVfV1YKwlG",
        "outputId": "2627f9e4-7b86-4a86-eec6-93458efa3c16"
      },
      "execution_count": null,
      "outputs": [
        {
          "output_type": "execute_result",
          "data": {
            "text/plain": [
              "   word1        word2 POS  SimLex999  conc(w1)  conc(w2)  concQ  Assoc(USF)  \\\n",
              "0    old          new   A       1.58      2.72      2.81      2        7.25   \n",
              "1  smart  intelligent   A       9.20      1.75      2.46      1        7.11   \n",
              "2   hard    difficult   A       8.77      3.76      2.21      2        5.94   \n",
              "3  happy     cheerful   A       9.55      2.56      2.34      1        5.85   \n",
              "4   hard         easy   A       0.95      3.76      2.07      2        5.82   \n",
              "\n",
              "   SimAssoc333  SD(SimLex)  \n",
              "0            1        0.41  \n",
              "1            1        0.67  \n",
              "2            1        1.19  \n",
              "3            1        2.18  \n",
              "4            1        0.93  "
            ],
            "text/html": [
              "\n",
              "  <div id=\"df-e782353d-98b3-42df-bef3-418aba8cbf04\" class=\"colab-df-container\">\n",
              "    <div>\n",
              "<style scoped>\n",
              "    .dataframe tbody tr th:only-of-type {\n",
              "        vertical-align: middle;\n",
              "    }\n",
              "\n",
              "    .dataframe tbody tr th {\n",
              "        vertical-align: top;\n",
              "    }\n",
              "\n",
              "    .dataframe thead th {\n",
              "        text-align: right;\n",
              "    }\n",
              "</style>\n",
              "<table border=\"1\" class=\"dataframe\">\n",
              "  <thead>\n",
              "    <tr style=\"text-align: right;\">\n",
              "      <th></th>\n",
              "      <th>word1</th>\n",
              "      <th>word2</th>\n",
              "      <th>POS</th>\n",
              "      <th>SimLex999</th>\n",
              "      <th>conc(w1)</th>\n",
              "      <th>conc(w2)</th>\n",
              "      <th>concQ</th>\n",
              "      <th>Assoc(USF)</th>\n",
              "      <th>SimAssoc333</th>\n",
              "      <th>SD(SimLex)</th>\n",
              "    </tr>\n",
              "  </thead>\n",
              "  <tbody>\n",
              "    <tr>\n",
              "      <th>0</th>\n",
              "      <td>old</td>\n",
              "      <td>new</td>\n",
              "      <td>A</td>\n",
              "      <td>1.58</td>\n",
              "      <td>2.72</td>\n",
              "      <td>2.81</td>\n",
              "      <td>2</td>\n",
              "      <td>7.25</td>\n",
              "      <td>1</td>\n",
              "      <td>0.41</td>\n",
              "    </tr>\n",
              "    <tr>\n",
              "      <th>1</th>\n",
              "      <td>smart</td>\n",
              "      <td>intelligent</td>\n",
              "      <td>A</td>\n",
              "      <td>9.20</td>\n",
              "      <td>1.75</td>\n",
              "      <td>2.46</td>\n",
              "      <td>1</td>\n",
              "      <td>7.11</td>\n",
              "      <td>1</td>\n",
              "      <td>0.67</td>\n",
              "    </tr>\n",
              "    <tr>\n",
              "      <th>2</th>\n",
              "      <td>hard</td>\n",
              "      <td>difficult</td>\n",
              "      <td>A</td>\n",
              "      <td>8.77</td>\n",
              "      <td>3.76</td>\n",
              "      <td>2.21</td>\n",
              "      <td>2</td>\n",
              "      <td>5.94</td>\n",
              "      <td>1</td>\n",
              "      <td>1.19</td>\n",
              "    </tr>\n",
              "    <tr>\n",
              "      <th>3</th>\n",
              "      <td>happy</td>\n",
              "      <td>cheerful</td>\n",
              "      <td>A</td>\n",
              "      <td>9.55</td>\n",
              "      <td>2.56</td>\n",
              "      <td>2.34</td>\n",
              "      <td>1</td>\n",
              "      <td>5.85</td>\n",
              "      <td>1</td>\n",
              "      <td>2.18</td>\n",
              "    </tr>\n",
              "    <tr>\n",
              "      <th>4</th>\n",
              "      <td>hard</td>\n",
              "      <td>easy</td>\n",
              "      <td>A</td>\n",
              "      <td>0.95</td>\n",
              "      <td>3.76</td>\n",
              "      <td>2.07</td>\n",
              "      <td>2</td>\n",
              "      <td>5.82</td>\n",
              "      <td>1</td>\n",
              "      <td>0.93</td>\n",
              "    </tr>\n",
              "  </tbody>\n",
              "</table>\n",
              "</div>\n",
              "    <div class=\"colab-df-buttons\">\n",
              "\n",
              "  <div class=\"colab-df-container\">\n",
              "    <button class=\"colab-df-convert\" onclick=\"convertToInteractive('df-e782353d-98b3-42df-bef3-418aba8cbf04')\"\n",
              "            title=\"Convert this dataframe to an interactive table.\"\n",
              "            style=\"display:none;\">\n",
              "\n",
              "  <svg xmlns=\"http://www.w3.org/2000/svg\" height=\"24px\" viewBox=\"0 -960 960 960\">\n",
              "    <path d=\"M120-120v-720h720v720H120Zm60-500h600v-160H180v160Zm220 220h160v-160H400v160Zm0 220h160v-160H400v160ZM180-400h160v-160H180v160Zm440 0h160v-160H620v160ZM180-180h160v-160H180v160Zm440 0h160v-160H620v160Z\"/>\n",
              "  </svg>\n",
              "    </button>\n",
              "\n",
              "  <style>\n",
              "    .colab-df-container {\n",
              "      display:flex;\n",
              "      gap: 12px;\n",
              "    }\n",
              "\n",
              "    .colab-df-convert {\n",
              "      background-color: #E8F0FE;\n",
              "      border: none;\n",
              "      border-radius: 50%;\n",
              "      cursor: pointer;\n",
              "      display: none;\n",
              "      fill: #1967D2;\n",
              "      height: 32px;\n",
              "      padding: 0 0 0 0;\n",
              "      width: 32px;\n",
              "    }\n",
              "\n",
              "    .colab-df-convert:hover {\n",
              "      background-color: #E2EBFA;\n",
              "      box-shadow: 0px 1px 2px rgba(60, 64, 67, 0.3), 0px 1px 3px 1px rgba(60, 64, 67, 0.15);\n",
              "      fill: #174EA6;\n",
              "    }\n",
              "\n",
              "    .colab-df-buttons div {\n",
              "      margin-bottom: 4px;\n",
              "    }\n",
              "\n",
              "    [theme=dark] .colab-df-convert {\n",
              "      background-color: #3B4455;\n",
              "      fill: #D2E3FC;\n",
              "    }\n",
              "\n",
              "    [theme=dark] .colab-df-convert:hover {\n",
              "      background-color: #434B5C;\n",
              "      box-shadow: 0px 1px 3px 1px rgba(0, 0, 0, 0.15);\n",
              "      filter: drop-shadow(0px 1px 2px rgba(0, 0, 0, 0.3));\n",
              "      fill: #FFFFFF;\n",
              "    }\n",
              "  </style>\n",
              "\n",
              "    <script>\n",
              "      const buttonEl =\n",
              "        document.querySelector('#df-e782353d-98b3-42df-bef3-418aba8cbf04 button.colab-df-convert');\n",
              "      buttonEl.style.display =\n",
              "        google.colab.kernel.accessAllowed ? 'block' : 'none';\n",
              "\n",
              "      async function convertToInteractive(key) {\n",
              "        const element = document.querySelector('#df-e782353d-98b3-42df-bef3-418aba8cbf04');\n",
              "        const dataTable =\n",
              "          await google.colab.kernel.invokeFunction('convertToInteractive',\n",
              "                                                    [key], {});\n",
              "        if (!dataTable) return;\n",
              "\n",
              "        const docLinkHtml = 'Like what you see? Visit the ' +\n",
              "          '<a target=\"_blank\" href=https://colab.research.google.com/notebooks/data_table.ipynb>data table notebook</a>'\n",
              "          + ' to learn more about interactive tables.';\n",
              "        element.innerHTML = '';\n",
              "        dataTable['output_type'] = 'display_data';\n",
              "        await google.colab.output.renderOutput(dataTable, element);\n",
              "        const docLink = document.createElement('div');\n",
              "        docLink.innerHTML = docLinkHtml;\n",
              "        element.appendChild(docLink);\n",
              "      }\n",
              "    </script>\n",
              "  </div>\n",
              "\n",
              "\n",
              "<div id=\"df-a1cbd754-59e0-4d27-88ce-51da1b15b7a8\">\n",
              "  <button class=\"colab-df-quickchart\" onclick=\"quickchart('df-a1cbd754-59e0-4d27-88ce-51da1b15b7a8')\"\n",
              "            title=\"Suggest charts\"\n",
              "            style=\"display:none;\">\n",
              "\n",
              "<svg xmlns=\"http://www.w3.org/2000/svg\" height=\"24px\"viewBox=\"0 0 24 24\"\n",
              "     width=\"24px\">\n",
              "    <g>\n",
              "        <path d=\"M19 3H5c-1.1 0-2 .9-2 2v14c0 1.1.9 2 2 2h14c1.1 0 2-.9 2-2V5c0-1.1-.9-2-2-2zM9 17H7v-7h2v7zm4 0h-2V7h2v10zm4 0h-2v-4h2v4z\"/>\n",
              "    </g>\n",
              "</svg>\n",
              "  </button>\n",
              "\n",
              "<style>\n",
              "  .colab-df-quickchart {\n",
              "      --bg-color: #E8F0FE;\n",
              "      --fill-color: #1967D2;\n",
              "      --hover-bg-color: #E2EBFA;\n",
              "      --hover-fill-color: #174EA6;\n",
              "      --disabled-fill-color: #AAA;\n",
              "      --disabled-bg-color: #DDD;\n",
              "  }\n",
              "\n",
              "  [theme=dark] .colab-df-quickchart {\n",
              "      --bg-color: #3B4455;\n",
              "      --fill-color: #D2E3FC;\n",
              "      --hover-bg-color: #434B5C;\n",
              "      --hover-fill-color: #FFFFFF;\n",
              "      --disabled-bg-color: #3B4455;\n",
              "      --disabled-fill-color: #666;\n",
              "  }\n",
              "\n",
              "  .colab-df-quickchart {\n",
              "    background-color: var(--bg-color);\n",
              "    border: none;\n",
              "    border-radius: 50%;\n",
              "    cursor: pointer;\n",
              "    display: none;\n",
              "    fill: var(--fill-color);\n",
              "    height: 32px;\n",
              "    padding: 0;\n",
              "    width: 32px;\n",
              "  }\n",
              "\n",
              "  .colab-df-quickchart:hover {\n",
              "    background-color: var(--hover-bg-color);\n",
              "    box-shadow: 0 1px 2px rgba(60, 64, 67, 0.3), 0 1px 3px 1px rgba(60, 64, 67, 0.15);\n",
              "    fill: var(--button-hover-fill-color);\n",
              "  }\n",
              "\n",
              "  .colab-df-quickchart-complete:disabled,\n",
              "  .colab-df-quickchart-complete:disabled:hover {\n",
              "    background-color: var(--disabled-bg-color);\n",
              "    fill: var(--disabled-fill-color);\n",
              "    box-shadow: none;\n",
              "  }\n",
              "\n",
              "  .colab-df-spinner {\n",
              "    border: 2px solid var(--fill-color);\n",
              "    border-color: transparent;\n",
              "    border-bottom-color: var(--fill-color);\n",
              "    animation:\n",
              "      spin 1s steps(1) infinite;\n",
              "  }\n",
              "\n",
              "  @keyframes spin {\n",
              "    0% {\n",
              "      border-color: transparent;\n",
              "      border-bottom-color: var(--fill-color);\n",
              "      border-left-color: var(--fill-color);\n",
              "    }\n",
              "    20% {\n",
              "      border-color: transparent;\n",
              "      border-left-color: var(--fill-color);\n",
              "      border-top-color: var(--fill-color);\n",
              "    }\n",
              "    30% {\n",
              "      border-color: transparent;\n",
              "      border-left-color: var(--fill-color);\n",
              "      border-top-color: var(--fill-color);\n",
              "      border-right-color: var(--fill-color);\n",
              "    }\n",
              "    40% {\n",
              "      border-color: transparent;\n",
              "      border-right-color: var(--fill-color);\n",
              "      border-top-color: var(--fill-color);\n",
              "    }\n",
              "    60% {\n",
              "      border-color: transparent;\n",
              "      border-right-color: var(--fill-color);\n",
              "    }\n",
              "    80% {\n",
              "      border-color: transparent;\n",
              "      border-right-color: var(--fill-color);\n",
              "      border-bottom-color: var(--fill-color);\n",
              "    }\n",
              "    90% {\n",
              "      border-color: transparent;\n",
              "      border-bottom-color: var(--fill-color);\n",
              "    }\n",
              "  }\n",
              "</style>\n",
              "\n",
              "  <script>\n",
              "    async function quickchart(key) {\n",
              "      const quickchartButtonEl =\n",
              "        document.querySelector('#' + key + ' button');\n",
              "      quickchartButtonEl.disabled = true;  // To prevent multiple clicks.\n",
              "      quickchartButtonEl.classList.add('colab-df-spinner');\n",
              "      try {\n",
              "        const charts = await google.colab.kernel.invokeFunction(\n",
              "            'suggestCharts', [key], {});\n",
              "      } catch (error) {\n",
              "        console.error('Error during call to suggestCharts:', error);\n",
              "      }\n",
              "      quickchartButtonEl.classList.remove('colab-df-spinner');\n",
              "      quickchartButtonEl.classList.add('colab-df-quickchart-complete');\n",
              "    }\n",
              "    (() => {\n",
              "      let quickchartButtonEl =\n",
              "        document.querySelector('#df-a1cbd754-59e0-4d27-88ce-51da1b15b7a8 button');\n",
              "      quickchartButtonEl.style.display =\n",
              "        google.colab.kernel.accessAllowed ? 'block' : 'none';\n",
              "    })();\n",
              "  </script>\n",
              "</div>\n",
              "\n",
              "    </div>\n",
              "  </div>\n"
            ]
          },
          "metadata": {},
          "execution_count": 77
        }
      ]
    },
    {
      "cell_type": "code",
      "source": [
        "def get_word_vectors_sim(word1, word2):\n",
        "    # Retrieve vectors, use 'unk' vector if the word is not found\n",
        "    word1_vector = reduced_matrix_1[token_to_new_index.get(word1, token_to_new_index['unk'])]\n",
        "    word2_vector = reduced_matrix_1[token_to_new_index.get(word2, token_to_new_index['unk'])]\n",
        "\n",
        "    # Compute cosine similarity and scale it to 0-10\n",
        "    similarity = cosine_similarity(word1_vector, word2_vector)\n",
        "    scaled = 5 * (similarity + 1)  # Transforming from [-1, 1] to [0, 10]\n",
        "    return scaled\n"
      ],
      "metadata": {
        "id": "aWJZgi-bDm7K"
      },
      "execution_count": null,
      "outputs": []
    },
    {
      "cell_type": "code",
      "source": [
        "# Assuming your DataFrame is named simlex_data and it has columns 'word1' and 'word2'\n",
        "simlex_data['scaled_cosine_similarity_2'] = simlex_data.apply(lambda row: get_word_vectors_sim(row['word1'], row['word2']), axis=1)\n"
      ],
      "metadata": {
        "id": "ly3zZKe_ETvG"
      },
      "execution_count": null,
      "outputs": []
    },
    {
      "cell_type": "code",
      "source": [
        "# Assuming your DataFrame is named simlex_data and it has columns 'word1' and 'word2'\n",
        "simlex_data['scaled_cosine_similarity_1'] = simlex_data.apply(lambda row: get_word_vectors_sim(row['word1'], row['word2']), axis=1)\n"
      ],
      "metadata": {
        "id": "E536gISvE46J"
      },
      "execution_count": null,
      "outputs": []
    },
    {
      "cell_type": "code",
      "source": [
        "simlex_data.head()"
      ],
      "metadata": {
        "colab": {
          "base_uri": "https://localhost:8080/",
          "height": 226
        },
        "id": "zGN8vi-iFAqF",
        "outputId": "baa87cb1-024b-425c-b0b8-e6ab396cff5a"
      },
      "execution_count": null,
      "outputs": [
        {
          "output_type": "execute_result",
          "data": {
            "text/plain": [
              "   word1        word2 POS  SimLex999  conc(w1)  conc(w2)  concQ  Assoc(USF)  \\\n",
              "0    old          new   A       1.58      2.72      2.81      2        7.25   \n",
              "1  smart  intelligent   A       9.20      1.75      2.46      1        7.11   \n",
              "2   hard    difficult   A       8.77      3.76      2.21      2        5.94   \n",
              "3  happy     cheerful   A       9.55      2.56      2.34      1        5.85   \n",
              "4   hard         easy   A       0.95      3.76      2.07      2        5.82   \n",
              "\n",
              "   SimAssoc333  SD(SimLex)  scaled_cosine_similarity_2  \\\n",
              "0            1        0.41                    5.609093   \n",
              "1            1        0.67                    4.940238   \n",
              "2            1        1.19                    5.028484   \n",
              "3            1        2.18                    5.156646   \n",
              "4            1        0.93                    5.430548   \n",
              "\n",
              "   scaled_cosine_similarity_1  \n",
              "0                    5.695241  \n",
              "1                    5.124898  \n",
              "2                    5.016761  \n",
              "3                    5.008292  \n",
              "4                    5.128104  "
            ],
            "text/html": [
              "\n",
              "  <div id=\"df-eba96a5a-2e24-46ab-8c9c-17a72e7d13c2\" class=\"colab-df-container\">\n",
              "    <div>\n",
              "<style scoped>\n",
              "    .dataframe tbody tr th:only-of-type {\n",
              "        vertical-align: middle;\n",
              "    }\n",
              "\n",
              "    .dataframe tbody tr th {\n",
              "        vertical-align: top;\n",
              "    }\n",
              "\n",
              "    .dataframe thead th {\n",
              "        text-align: right;\n",
              "    }\n",
              "</style>\n",
              "<table border=\"1\" class=\"dataframe\">\n",
              "  <thead>\n",
              "    <tr style=\"text-align: right;\">\n",
              "      <th></th>\n",
              "      <th>word1</th>\n",
              "      <th>word2</th>\n",
              "      <th>POS</th>\n",
              "      <th>SimLex999</th>\n",
              "      <th>conc(w1)</th>\n",
              "      <th>conc(w2)</th>\n",
              "      <th>concQ</th>\n",
              "      <th>Assoc(USF)</th>\n",
              "      <th>SimAssoc333</th>\n",
              "      <th>SD(SimLex)</th>\n",
              "      <th>scaled_cosine_similarity_2</th>\n",
              "      <th>scaled_cosine_similarity_1</th>\n",
              "    </tr>\n",
              "  </thead>\n",
              "  <tbody>\n",
              "    <tr>\n",
              "      <th>0</th>\n",
              "      <td>old</td>\n",
              "      <td>new</td>\n",
              "      <td>A</td>\n",
              "      <td>1.58</td>\n",
              "      <td>2.72</td>\n",
              "      <td>2.81</td>\n",
              "      <td>2</td>\n",
              "      <td>7.25</td>\n",
              "      <td>1</td>\n",
              "      <td>0.41</td>\n",
              "      <td>5.609093</td>\n",
              "      <td>5.695241</td>\n",
              "    </tr>\n",
              "    <tr>\n",
              "      <th>1</th>\n",
              "      <td>smart</td>\n",
              "      <td>intelligent</td>\n",
              "      <td>A</td>\n",
              "      <td>9.20</td>\n",
              "      <td>1.75</td>\n",
              "      <td>2.46</td>\n",
              "      <td>1</td>\n",
              "      <td>7.11</td>\n",
              "      <td>1</td>\n",
              "      <td>0.67</td>\n",
              "      <td>4.940238</td>\n",
              "      <td>5.124898</td>\n",
              "    </tr>\n",
              "    <tr>\n",
              "      <th>2</th>\n",
              "      <td>hard</td>\n",
              "      <td>difficult</td>\n",
              "      <td>A</td>\n",
              "      <td>8.77</td>\n",
              "      <td>3.76</td>\n",
              "      <td>2.21</td>\n",
              "      <td>2</td>\n",
              "      <td>5.94</td>\n",
              "      <td>1</td>\n",
              "      <td>1.19</td>\n",
              "      <td>5.028484</td>\n",
              "      <td>5.016761</td>\n",
              "    </tr>\n",
              "    <tr>\n",
              "      <th>3</th>\n",
              "      <td>happy</td>\n",
              "      <td>cheerful</td>\n",
              "      <td>A</td>\n",
              "      <td>9.55</td>\n",
              "      <td>2.56</td>\n",
              "      <td>2.34</td>\n",
              "      <td>1</td>\n",
              "      <td>5.85</td>\n",
              "      <td>1</td>\n",
              "      <td>2.18</td>\n",
              "      <td>5.156646</td>\n",
              "      <td>5.008292</td>\n",
              "    </tr>\n",
              "    <tr>\n",
              "      <th>4</th>\n",
              "      <td>hard</td>\n",
              "      <td>easy</td>\n",
              "      <td>A</td>\n",
              "      <td>0.95</td>\n",
              "      <td>3.76</td>\n",
              "      <td>2.07</td>\n",
              "      <td>2</td>\n",
              "      <td>5.82</td>\n",
              "      <td>1</td>\n",
              "      <td>0.93</td>\n",
              "      <td>5.430548</td>\n",
              "      <td>5.128104</td>\n",
              "    </tr>\n",
              "  </tbody>\n",
              "</table>\n",
              "</div>\n",
              "    <div class=\"colab-df-buttons\">\n",
              "\n",
              "  <div class=\"colab-df-container\">\n",
              "    <button class=\"colab-df-convert\" onclick=\"convertToInteractive('df-eba96a5a-2e24-46ab-8c9c-17a72e7d13c2')\"\n",
              "            title=\"Convert this dataframe to an interactive table.\"\n",
              "            style=\"display:none;\">\n",
              "\n",
              "  <svg xmlns=\"http://www.w3.org/2000/svg\" height=\"24px\" viewBox=\"0 -960 960 960\">\n",
              "    <path d=\"M120-120v-720h720v720H120Zm60-500h600v-160H180v160Zm220 220h160v-160H400v160Zm0 220h160v-160H400v160ZM180-400h160v-160H180v160Zm440 0h160v-160H620v160ZM180-180h160v-160H180v160Zm440 0h160v-160H620v160Z\"/>\n",
              "  </svg>\n",
              "    </button>\n",
              "\n",
              "  <style>\n",
              "    .colab-df-container {\n",
              "      display:flex;\n",
              "      gap: 12px;\n",
              "    }\n",
              "\n",
              "    .colab-df-convert {\n",
              "      background-color: #E8F0FE;\n",
              "      border: none;\n",
              "      border-radius: 50%;\n",
              "      cursor: pointer;\n",
              "      display: none;\n",
              "      fill: #1967D2;\n",
              "      height: 32px;\n",
              "      padding: 0 0 0 0;\n",
              "      width: 32px;\n",
              "    }\n",
              "\n",
              "    .colab-df-convert:hover {\n",
              "      background-color: #E2EBFA;\n",
              "      box-shadow: 0px 1px 2px rgba(60, 64, 67, 0.3), 0px 1px 3px 1px rgba(60, 64, 67, 0.15);\n",
              "      fill: #174EA6;\n",
              "    }\n",
              "\n",
              "    .colab-df-buttons div {\n",
              "      margin-bottom: 4px;\n",
              "    }\n",
              "\n",
              "    [theme=dark] .colab-df-convert {\n",
              "      background-color: #3B4455;\n",
              "      fill: #D2E3FC;\n",
              "    }\n",
              "\n",
              "    [theme=dark] .colab-df-convert:hover {\n",
              "      background-color: #434B5C;\n",
              "      box-shadow: 0px 1px 3px 1px rgba(0, 0, 0, 0.15);\n",
              "      filter: drop-shadow(0px 1px 2px rgba(0, 0, 0, 0.3));\n",
              "      fill: #FFFFFF;\n",
              "    }\n",
              "  </style>\n",
              "\n",
              "    <script>\n",
              "      const buttonEl =\n",
              "        document.querySelector('#df-eba96a5a-2e24-46ab-8c9c-17a72e7d13c2 button.colab-df-convert');\n",
              "      buttonEl.style.display =\n",
              "        google.colab.kernel.accessAllowed ? 'block' : 'none';\n",
              "\n",
              "      async function convertToInteractive(key) {\n",
              "        const element = document.querySelector('#df-eba96a5a-2e24-46ab-8c9c-17a72e7d13c2');\n",
              "        const dataTable =\n",
              "          await google.colab.kernel.invokeFunction('convertToInteractive',\n",
              "                                                    [key], {});\n",
              "        if (!dataTable) return;\n",
              "\n",
              "        const docLinkHtml = 'Like what you see? Visit the ' +\n",
              "          '<a target=\"_blank\" href=https://colab.research.google.com/notebooks/data_table.ipynb>data table notebook</a>'\n",
              "          + ' to learn more about interactive tables.';\n",
              "        element.innerHTML = '';\n",
              "        dataTable['output_type'] = 'display_data';\n",
              "        await google.colab.output.renderOutput(dataTable, element);\n",
              "        const docLink = document.createElement('div');\n",
              "        docLink.innerHTML = docLinkHtml;\n",
              "        element.appendChild(docLink);\n",
              "      }\n",
              "    </script>\n",
              "  </div>\n",
              "\n",
              "\n",
              "<div id=\"df-c397f543-b9a2-46ae-b981-b63dde5978a2\">\n",
              "  <button class=\"colab-df-quickchart\" onclick=\"quickchart('df-c397f543-b9a2-46ae-b981-b63dde5978a2')\"\n",
              "            title=\"Suggest charts\"\n",
              "            style=\"display:none;\">\n",
              "\n",
              "<svg xmlns=\"http://www.w3.org/2000/svg\" height=\"24px\"viewBox=\"0 0 24 24\"\n",
              "     width=\"24px\">\n",
              "    <g>\n",
              "        <path d=\"M19 3H5c-1.1 0-2 .9-2 2v14c0 1.1.9 2 2 2h14c1.1 0 2-.9 2-2V5c0-1.1-.9-2-2-2zM9 17H7v-7h2v7zm4 0h-2V7h2v10zm4 0h-2v-4h2v4z\"/>\n",
              "    </g>\n",
              "</svg>\n",
              "  </button>\n",
              "\n",
              "<style>\n",
              "  .colab-df-quickchart {\n",
              "      --bg-color: #E8F0FE;\n",
              "      --fill-color: #1967D2;\n",
              "      --hover-bg-color: #E2EBFA;\n",
              "      --hover-fill-color: #174EA6;\n",
              "      --disabled-fill-color: #AAA;\n",
              "      --disabled-bg-color: #DDD;\n",
              "  }\n",
              "\n",
              "  [theme=dark] .colab-df-quickchart {\n",
              "      --bg-color: #3B4455;\n",
              "      --fill-color: #D2E3FC;\n",
              "      --hover-bg-color: #434B5C;\n",
              "      --hover-fill-color: #FFFFFF;\n",
              "      --disabled-bg-color: #3B4455;\n",
              "      --disabled-fill-color: #666;\n",
              "  }\n",
              "\n",
              "  .colab-df-quickchart {\n",
              "    background-color: var(--bg-color);\n",
              "    border: none;\n",
              "    border-radius: 50%;\n",
              "    cursor: pointer;\n",
              "    display: none;\n",
              "    fill: var(--fill-color);\n",
              "    height: 32px;\n",
              "    padding: 0;\n",
              "    width: 32px;\n",
              "  }\n",
              "\n",
              "  .colab-df-quickchart:hover {\n",
              "    background-color: var(--hover-bg-color);\n",
              "    box-shadow: 0 1px 2px rgba(60, 64, 67, 0.3), 0 1px 3px 1px rgba(60, 64, 67, 0.15);\n",
              "    fill: var(--button-hover-fill-color);\n",
              "  }\n",
              "\n",
              "  .colab-df-quickchart-complete:disabled,\n",
              "  .colab-df-quickchart-complete:disabled:hover {\n",
              "    background-color: var(--disabled-bg-color);\n",
              "    fill: var(--disabled-fill-color);\n",
              "    box-shadow: none;\n",
              "  }\n",
              "\n",
              "  .colab-df-spinner {\n",
              "    border: 2px solid var(--fill-color);\n",
              "    border-color: transparent;\n",
              "    border-bottom-color: var(--fill-color);\n",
              "    animation:\n",
              "      spin 1s steps(1) infinite;\n",
              "  }\n",
              "\n",
              "  @keyframes spin {\n",
              "    0% {\n",
              "      border-color: transparent;\n",
              "      border-bottom-color: var(--fill-color);\n",
              "      border-left-color: var(--fill-color);\n",
              "    }\n",
              "    20% {\n",
              "      border-color: transparent;\n",
              "      border-left-color: var(--fill-color);\n",
              "      border-top-color: var(--fill-color);\n",
              "    }\n",
              "    30% {\n",
              "      border-color: transparent;\n",
              "      border-left-color: var(--fill-color);\n",
              "      border-top-color: var(--fill-color);\n",
              "      border-right-color: var(--fill-color);\n",
              "    }\n",
              "    40% {\n",
              "      border-color: transparent;\n",
              "      border-right-color: var(--fill-color);\n",
              "      border-top-color: var(--fill-color);\n",
              "    }\n",
              "    60% {\n",
              "      border-color: transparent;\n",
              "      border-right-color: var(--fill-color);\n",
              "    }\n",
              "    80% {\n",
              "      border-color: transparent;\n",
              "      border-right-color: var(--fill-color);\n",
              "      border-bottom-color: var(--fill-color);\n",
              "    }\n",
              "    90% {\n",
              "      border-color: transparent;\n",
              "      border-bottom-color: var(--fill-color);\n",
              "    }\n",
              "  }\n",
              "</style>\n",
              "\n",
              "  <script>\n",
              "    async function quickchart(key) {\n",
              "      const quickchartButtonEl =\n",
              "        document.querySelector('#' + key + ' button');\n",
              "      quickchartButtonEl.disabled = true;  // To prevent multiple clicks.\n",
              "      quickchartButtonEl.classList.add('colab-df-spinner');\n",
              "      try {\n",
              "        const charts = await google.colab.kernel.invokeFunction(\n",
              "            'suggestCharts', [key], {});\n",
              "      } catch (error) {\n",
              "        console.error('Error during call to suggestCharts:', error);\n",
              "      }\n",
              "      quickchartButtonEl.classList.remove('colab-df-spinner');\n",
              "      quickchartButtonEl.classList.add('colab-df-quickchart-complete');\n",
              "    }\n",
              "    (() => {\n",
              "      let quickchartButtonEl =\n",
              "        document.querySelector('#df-c397f543-b9a2-46ae-b981-b63dde5978a2 button');\n",
              "      quickchartButtonEl.style.display =\n",
              "        google.colab.kernel.accessAllowed ? 'block' : 'none';\n",
              "    })();\n",
              "  </script>\n",
              "</div>\n",
              "\n",
              "    </div>\n",
              "  </div>\n"
            ]
          },
          "metadata": {},
          "execution_count": 83
        }
      ]
    },
    {
      "cell_type": "code",
      "source": [
        "from sklearn.metrics import mean_squared_error\n",
        "from scipy.stats import spearmanr\n"
      ],
      "metadata": {
        "id": "KX1CqAkZFF1C"
      },
      "execution_count": null,
      "outputs": []
    },
    {
      "cell_type": "code",
      "source": [
        "mse = mean_squared_error(simlex_data['SimLex999'], simlex_data['scaled_cosine_similarity_1'])\n",
        "print(f\"Mean Squared Error (MSE): {mse}\")\n"
      ],
      "metadata": {
        "colab": {
          "base_uri": "https://localhost:8080/"
        },
        "id": "z5nGZKvZFjX1",
        "outputId": "c83b80b6-f10f-4358-826f-8acadc721674"
      },
      "execution_count": null,
      "outputs": [
        {
          "output_type": "stream",
          "name": "stdout",
          "text": [
            "Mean Squared Error (MSE): 7.527039774725848\n"
          ]
        }
      ]
    },
    {
      "cell_type": "code",
      "source": [
        "mse = mean_squared_error(simlex_data['SimLex999'], simlex_data['scaled_cosine_similarity_2'])\n",
        "print(f\"Mean Squared Error (MSE): {mse}\")"
      ],
      "metadata": {
        "colab": {
          "base_uri": "https://localhost:8080/"
        },
        "id": "A7q8xxXhFlBH",
        "outputId": "906be053-9d00-4691-c923-9ee0b69dd8d4"
      },
      "execution_count": null,
      "outputs": [
        {
          "output_type": "stream",
          "name": "stdout",
          "text": [
            "Mean Squared Error (MSE): 7.596240002415539\n"
          ]
        }
      ]
    },
    {
      "cell_type": "code",
      "source": [
        "spearman_corr, _ = spearmanr(simlex_data['SimLex999'], simlex_data['scaled_cosine_similarity_1'])\n",
        "print(f\"Spearman's Rank Correlation: {spearman_corr}\")\n"
      ],
      "metadata": {
        "colab": {
          "base_uri": "https://localhost:8080/"
        },
        "id": "uzOneXRTFtTE",
        "outputId": "ef4c7160-19ec-4ea6-debb-d8fd4f9ff588"
      },
      "execution_count": null,
      "outputs": [
        {
          "output_type": "stream",
          "name": "stdout",
          "text": [
            "Spearman's Rank Correlation: 0.06035143720380376\n"
          ]
        }
      ]
    },
    {
      "cell_type": "code",
      "source": [
        "spearman_corr, _ = spearmanr(simlex_data['SimLex999'], simlex_data['scaled_cosine_similarity_2'])\n",
        "print(f\"Spearman's Rank Correlation: {spearman_corr}\")\n"
      ],
      "metadata": {
        "colab": {
          "base_uri": "https://localhost:8080/"
        },
        "id": "2wt445YoFyWC",
        "outputId": "4751501b-e09c-489a-9354-e2b8b919a6c2"
      },
      "execution_count": null,
      "outputs": [
        {
          "output_type": "stream",
          "name": "stdout",
          "text": [
            "Spearman's Rank Correlation: 0.07512441138331043\n"
          ]
        }
      ]
    },
    {
      "cell_type": "code",
      "source": [
        "print(_)"
      ],
      "metadata": {
        "colab": {
          "base_uri": "https://localhost:8080/"
        },
        "id": "jjEoGpn2F0MB",
        "outputId": "11a73fbc-5639-4795-aa70-471c36b0b026"
      },
      "execution_count": null,
      "outputs": [
        {
          "output_type": "stream",
          "name": "stdout",
          "text": [
            "0.017556647722593466\n"
          ]
        }
      ]
    },
    {
      "cell_type": "code",
      "source": [],
      "metadata": {
        "id": "N2S-0CQUIJDe"
      },
      "execution_count": null,
      "outputs": []
    }
  ]
}